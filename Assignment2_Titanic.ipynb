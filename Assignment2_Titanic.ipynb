{
  "nbformat": 4,
  "nbformat_minor": 0,
  "metadata": {
    "colab": {
      "provenance": [],
      "authorship_tag": "ABX9TyNXoTvL65RGo8XB4ITWDgYn",
      "include_colab_link": true
    },
    "kernelspec": {
      "name": "python3",
      "display_name": "Python 3"
    },
    "language_info": {
      "name": "python"
    }
  },
  "cells": [
    {
      "cell_type": "markdown",
      "metadata": {
        "id": "view-in-github",
        "colab_type": "text"
      },
      "source": [
        "<a href=\"https://colab.research.google.com/github/OmriMan/Bagging/blob/main/Assignment2_Titanic.ipynb\" target=\"_parent\"><img src=\"https://colab.research.google.com/assets/colab-badge.svg\" alt=\"Open In Colab\"/></a>"
      ]
    },
    {
      "cell_type": "markdown",
      "source": [
        "https://www.kaggle.com/code/chazzer/ml-grandmaster-decision-tree-classifier"
      ],
      "metadata": {
        "id": "WqmB4zIPh4H2"
      }
    },
    {
      "cell_type": "markdown",
      "source": [
        "Packages"
      ],
      "metadata": {
        "id": "87IJuSzXh9W4"
      }
    },
    {
      "cell_type": "code",
      "execution_count": 37,
      "metadata": {
        "id": "87jxIyNEfb0f"
      },
      "outputs": [],
      "source": [
        "import numpy as np  # linear algebra\n",
        "import pandas as pd  # data processing\n",
        "\n",
        "from sklearn.tree import DecisionTreeClassifier  # model\n",
        "\n",
        "from matplotlib import pyplot as plt  # visualization\n",
        "from sklearn.tree import plot_tree  # visualize tree\n",
        "\n",
        "from sklearn.model_selection import train_test_split\n",
        "\n",
        "from sklearn.metrics import accuracy_score"
      ]
    },
    {
      "cell_type": "markdown",
      "source": [
        "#Dataset -Titanic#\n",
        "Source: https://www.kaggle.com/competitions/titanic/data\n",
        "\n",
        "survival:\tSurvival, 0 = No, 1 = Yes\n",
        "\n",
        "pclass:\tTicket class, 1 = 1st, 2 = 2nd, 3 = 3rd\n",
        "\n",
        "sex: Sex. Female = 1,Male = 0\t\n",
        "\n",
        "Age: Age in years.Missing values ​​were replaced by the mean ages in the data set\n",
        "\n",
        "sibsp: numer of siblings / spouses aboard the Titanic\t\n",
        "\n",
        "parch: number of parents / children aboard the Titanic\t\n",
        "\n",
        "ticket: Ticket number.We did not use this feature\n",
        "\n",
        "fare: Passenger fare.Missing values ​​were replaced by the mean fare values in the data set\n",
        "\n",
        "cabin: Cabin number.We did not use this feature\n",
        "\n",
        "embarked: Port of Embarkation\tC=Cherbourg,Q=Queenstown,S=Southampton.We replaced the values ​​as follows: S=0,C=1,Q=2"
      ],
      "metadata": {
        "id": "dcQ5Inkxh9f8"
      }
    },
    {
      "cell_type": "code",
      "source": [],
      "metadata": {
        "id": "7947jMfvjRsP"
      },
      "execution_count": 37,
      "outputs": []
    },
    {
      "cell_type": "code",
      "source": [
        "def preprocess(df):\n",
        "    # Putting on index to each dataset before split it\n",
        "    df = df.set_index(\"PassengerId\")\n",
        "    # Sex\n",
        "    change = {'female':1,'male':0}\n",
        "    df.Sex = df.Sex.map(change)\n",
        "\n",
        "    # Embarked\n",
        "    change = {'S':0,'C':1,'Q':2}\n",
        "    df.Embarked = df.Embarked.map(change)\n",
        "    df['Embarked'] = df['Embarked'].replace(to_replace = np.nan, value =1)\n",
        "\n",
        "    # df['Age'] = df['Age'].groupby(df['Age'].isnull()).mean()\n",
        "    df['Age'] = df['Age'].replace(to_replace = np.nan, value =df['Age'].mean())\n",
        "    # df['Age'] = df['Age'].replace(to_replace = np.nan, value =50)\n",
        "    df['Fare'] = df['Fare'].replace(to_replace = np.nan, value =df['Fare'].mean())\n",
        "    df = df.drop(columns=['Name','Ticket','Cabin'])\n",
        "    return df"
      ],
      "metadata": {
        "id": "Ag6efM39h9oc"
      },
      "execution_count": 38,
      "outputs": []
    },
    {
      "cell_type": "markdown",
      "source": [
        "Load the data set"
      ],
      "metadata": {
        "id": "NdmBERPKh6tk"
      }
    },
    {
      "cell_type": "code",
      "source": [
        "df = pd.read_csv('/content/sample_data/train.csv')\n",
        "df = preprocess(df)\n",
        "features = ['Pclass',\t'Sex',\t'Age',\t'SibSp',\t'Parch',\t'Fare',\t'Embarked']\n",
        "X = df.loc[:, features]\n",
        "y = df.loc[:, ['Survived']]"
      ],
      "metadata": {
        "id": "6r9o13AhXjli"
      },
      "execution_count": 39,
      "outputs": []
    },
    {
      "cell_type": "markdown",
      "source": [
        "Split the data into training and testin sets"
      ],
      "metadata": {
        "id": "79wht_rGiPz9"
      }
    },
    {
      "cell_type": "code",
      "source": [
        "X_train, X_test, y_train, y_test = train_test_split(X, y, random_state=0, train_size = .75)"
      ],
      "metadata": {
        "id": "2ihnPAz3iQno"
      },
      "execution_count": 40,
      "outputs": []
    },
    {
      "cell_type": "code",
      "source": [
        "X_test"
      ],
      "metadata": {
        "colab": {
          "base_uri": "https://localhost:8080/",
          "height": 455
        },
        "id": "qz3JE505iUpp",
        "outputId": "08bc2338-5584-46ce-c9d8-7841830039e7"
      },
      "execution_count": 41,
      "outputs": [
        {
          "output_type": "execute_result",
          "data": {
            "text/plain": [
              "             Pclass  Sex        Age  SibSp  Parch      Fare  Embarked\n",
              "PassengerId                                                          \n",
              "496               3    0  29.699118      0      0   14.4583       1.0\n",
              "649               3    0  29.699118      0      0    7.5500       0.0\n",
              "279               3    0   7.000000      4      1   29.1250       2.0\n",
              "32                1    1  29.699118      1      0  146.5208       1.0\n",
              "256               3    1  29.000000      0      2   15.2458       1.0\n",
              "...             ...  ...        ...    ...    ...       ...       ...\n",
              "168               3    1  45.000000      1      4   27.9000       0.0\n",
              "307               1    1  29.699118      0      0  110.8833       1.0\n",
              "380               3    0  19.000000      0      0    7.7750       0.0\n",
              "743               1    1  21.000000      2      2  262.3750       1.0\n",
              "11                3    1   4.000000      1      1   16.7000       0.0\n",
              "\n",
              "[223 rows x 7 columns]"
            ],
            "text/html": [
              "\n",
              "  <div id=\"df-1c77e703-f9d8-4151-b221-2468799ac8ad\">\n",
              "    <div class=\"colab-df-container\">\n",
              "      <div>\n",
              "<style scoped>\n",
              "    .dataframe tbody tr th:only-of-type {\n",
              "        vertical-align: middle;\n",
              "    }\n",
              "\n",
              "    .dataframe tbody tr th {\n",
              "        vertical-align: top;\n",
              "    }\n",
              "\n",
              "    .dataframe thead th {\n",
              "        text-align: right;\n",
              "    }\n",
              "</style>\n",
              "<table border=\"1\" class=\"dataframe\">\n",
              "  <thead>\n",
              "    <tr style=\"text-align: right;\">\n",
              "      <th></th>\n",
              "      <th>Pclass</th>\n",
              "      <th>Sex</th>\n",
              "      <th>Age</th>\n",
              "      <th>SibSp</th>\n",
              "      <th>Parch</th>\n",
              "      <th>Fare</th>\n",
              "      <th>Embarked</th>\n",
              "    </tr>\n",
              "    <tr>\n",
              "      <th>PassengerId</th>\n",
              "      <th></th>\n",
              "      <th></th>\n",
              "      <th></th>\n",
              "      <th></th>\n",
              "      <th></th>\n",
              "      <th></th>\n",
              "      <th></th>\n",
              "    </tr>\n",
              "  </thead>\n",
              "  <tbody>\n",
              "    <tr>\n",
              "      <th>496</th>\n",
              "      <td>3</td>\n",
              "      <td>0</td>\n",
              "      <td>29.699118</td>\n",
              "      <td>0</td>\n",
              "      <td>0</td>\n",
              "      <td>14.4583</td>\n",
              "      <td>1.0</td>\n",
              "    </tr>\n",
              "    <tr>\n",
              "      <th>649</th>\n",
              "      <td>3</td>\n",
              "      <td>0</td>\n",
              "      <td>29.699118</td>\n",
              "      <td>0</td>\n",
              "      <td>0</td>\n",
              "      <td>7.5500</td>\n",
              "      <td>0.0</td>\n",
              "    </tr>\n",
              "    <tr>\n",
              "      <th>279</th>\n",
              "      <td>3</td>\n",
              "      <td>0</td>\n",
              "      <td>7.000000</td>\n",
              "      <td>4</td>\n",
              "      <td>1</td>\n",
              "      <td>29.1250</td>\n",
              "      <td>2.0</td>\n",
              "    </tr>\n",
              "    <tr>\n",
              "      <th>32</th>\n",
              "      <td>1</td>\n",
              "      <td>1</td>\n",
              "      <td>29.699118</td>\n",
              "      <td>1</td>\n",
              "      <td>0</td>\n",
              "      <td>146.5208</td>\n",
              "      <td>1.0</td>\n",
              "    </tr>\n",
              "    <tr>\n",
              "      <th>256</th>\n",
              "      <td>3</td>\n",
              "      <td>1</td>\n",
              "      <td>29.000000</td>\n",
              "      <td>0</td>\n",
              "      <td>2</td>\n",
              "      <td>15.2458</td>\n",
              "      <td>1.0</td>\n",
              "    </tr>\n",
              "    <tr>\n",
              "      <th>...</th>\n",
              "      <td>...</td>\n",
              "      <td>...</td>\n",
              "      <td>...</td>\n",
              "      <td>...</td>\n",
              "      <td>...</td>\n",
              "      <td>...</td>\n",
              "      <td>...</td>\n",
              "    </tr>\n",
              "    <tr>\n",
              "      <th>168</th>\n",
              "      <td>3</td>\n",
              "      <td>1</td>\n",
              "      <td>45.000000</td>\n",
              "      <td>1</td>\n",
              "      <td>4</td>\n",
              "      <td>27.9000</td>\n",
              "      <td>0.0</td>\n",
              "    </tr>\n",
              "    <tr>\n",
              "      <th>307</th>\n",
              "      <td>1</td>\n",
              "      <td>1</td>\n",
              "      <td>29.699118</td>\n",
              "      <td>0</td>\n",
              "      <td>0</td>\n",
              "      <td>110.8833</td>\n",
              "      <td>1.0</td>\n",
              "    </tr>\n",
              "    <tr>\n",
              "      <th>380</th>\n",
              "      <td>3</td>\n",
              "      <td>0</td>\n",
              "      <td>19.000000</td>\n",
              "      <td>0</td>\n",
              "      <td>0</td>\n",
              "      <td>7.7750</td>\n",
              "      <td>0.0</td>\n",
              "    </tr>\n",
              "    <tr>\n",
              "      <th>743</th>\n",
              "      <td>1</td>\n",
              "      <td>1</td>\n",
              "      <td>21.000000</td>\n",
              "      <td>2</td>\n",
              "      <td>2</td>\n",
              "      <td>262.3750</td>\n",
              "      <td>1.0</td>\n",
              "    </tr>\n",
              "    <tr>\n",
              "      <th>11</th>\n",
              "      <td>3</td>\n",
              "      <td>1</td>\n",
              "      <td>4.000000</td>\n",
              "      <td>1</td>\n",
              "      <td>1</td>\n",
              "      <td>16.7000</td>\n",
              "      <td>0.0</td>\n",
              "    </tr>\n",
              "  </tbody>\n",
              "</table>\n",
              "<p>223 rows × 7 columns</p>\n",
              "</div>\n",
              "      <button class=\"colab-df-convert\" onclick=\"convertToInteractive('df-1c77e703-f9d8-4151-b221-2468799ac8ad')\"\n",
              "              title=\"Convert this dataframe to an interactive table.\"\n",
              "              style=\"display:none;\">\n",
              "        \n",
              "  <svg xmlns=\"http://www.w3.org/2000/svg\" height=\"24px\"viewBox=\"0 0 24 24\"\n",
              "       width=\"24px\">\n",
              "    <path d=\"M0 0h24v24H0V0z\" fill=\"none\"/>\n",
              "    <path d=\"M18.56 5.44l.94 2.06.94-2.06 2.06-.94-2.06-.94-.94-2.06-.94 2.06-2.06.94zm-11 1L8.5 8.5l.94-2.06 2.06-.94-2.06-.94L8.5 2.5l-.94 2.06-2.06.94zm10 10l.94 2.06.94-2.06 2.06-.94-2.06-.94-.94-2.06-.94 2.06-2.06.94z\"/><path d=\"M17.41 7.96l-1.37-1.37c-.4-.4-.92-.59-1.43-.59-.52 0-1.04.2-1.43.59L10.3 9.45l-7.72 7.72c-.78.78-.78 2.05 0 2.83L4 21.41c.39.39.9.59 1.41.59.51 0 1.02-.2 1.41-.59l7.78-7.78 2.81-2.81c.8-.78.8-2.07 0-2.86zM5.41 20L4 18.59l7.72-7.72 1.47 1.35L5.41 20z\"/>\n",
              "  </svg>\n",
              "      </button>\n",
              "      \n",
              "  <style>\n",
              "    .colab-df-container {\n",
              "      display:flex;\n",
              "      flex-wrap:wrap;\n",
              "      gap: 12px;\n",
              "    }\n",
              "\n",
              "    .colab-df-convert {\n",
              "      background-color: #E8F0FE;\n",
              "      border: none;\n",
              "      border-radius: 50%;\n",
              "      cursor: pointer;\n",
              "      display: none;\n",
              "      fill: #1967D2;\n",
              "      height: 32px;\n",
              "      padding: 0 0 0 0;\n",
              "      width: 32px;\n",
              "    }\n",
              "\n",
              "    .colab-df-convert:hover {\n",
              "      background-color: #E2EBFA;\n",
              "      box-shadow: 0px 1px 2px rgba(60, 64, 67, 0.3), 0px 1px 3px 1px rgba(60, 64, 67, 0.15);\n",
              "      fill: #174EA6;\n",
              "    }\n",
              "\n",
              "    [theme=dark] .colab-df-convert {\n",
              "      background-color: #3B4455;\n",
              "      fill: #D2E3FC;\n",
              "    }\n",
              "\n",
              "    [theme=dark] .colab-df-convert:hover {\n",
              "      background-color: #434B5C;\n",
              "      box-shadow: 0px 1px 3px 1px rgba(0, 0, 0, 0.15);\n",
              "      filter: drop-shadow(0px 1px 2px rgba(0, 0, 0, 0.3));\n",
              "      fill: #FFFFFF;\n",
              "    }\n",
              "  </style>\n",
              "\n",
              "      <script>\n",
              "        const buttonEl =\n",
              "          document.querySelector('#df-1c77e703-f9d8-4151-b221-2468799ac8ad button.colab-df-convert');\n",
              "        buttonEl.style.display =\n",
              "          google.colab.kernel.accessAllowed ? 'block' : 'none';\n",
              "\n",
              "        async function convertToInteractive(key) {\n",
              "          const element = document.querySelector('#df-1c77e703-f9d8-4151-b221-2468799ac8ad');\n",
              "          const dataTable =\n",
              "            await google.colab.kernel.invokeFunction('convertToInteractive',\n",
              "                                                     [key], {});\n",
              "          if (!dataTable) return;\n",
              "\n",
              "          const docLinkHtml = 'Like what you see? Visit the ' +\n",
              "            '<a target=\"_blank\" href=https://colab.research.google.com/notebooks/data_table.ipynb>data table notebook</a>'\n",
              "            + ' to learn more about interactive tables.';\n",
              "          element.innerHTML = '';\n",
              "          dataTable['output_type'] = 'display_data';\n",
              "          await google.colab.output.renderOutput(dataTable, element);\n",
              "          const docLink = document.createElement('div');\n",
              "          docLink.innerHTML = docLinkHtml;\n",
              "          element.appendChild(docLink);\n",
              "        }\n",
              "      </script>\n",
              "    </div>\n",
              "  </div>\n",
              "  "
            ]
          },
          "metadata": {},
          "execution_count": 41
        }
      ]
    },
    {
      "cell_type": "code",
      "source": [
        "X_test.isna().sum\n",
        "X_train"
      ],
      "metadata": {
        "colab": {
          "base_uri": "https://localhost:8080/",
          "height": 455
        },
        "id": "EA7dVA4HiWoa",
        "outputId": "ba4fcfec-544c-4d11-f3e0-0800833c5cf0"
      },
      "execution_count": 42,
      "outputs": [
        {
          "output_type": "execute_result",
          "data": {
            "text/plain": [
              "             Pclass  Sex        Age  SibSp  Parch     Fare  Embarked\n",
              "PassengerId                                                         \n",
              "106               3    0  28.000000      0      0   7.8958       0.0\n",
              "69                3    1  17.000000      4      2   7.9250       0.0\n",
              "254               3    0  30.000000      1      0  16.1000       0.0\n",
              "321               3    0  22.000000      0      0   7.2500       0.0\n",
              "707               2    1  45.000000      0      0  13.5000       0.0\n",
              "...             ...  ...        ...    ...    ...      ...       ...\n",
              "836               1    1  39.000000      1      1  83.1583       1.0\n",
              "193               3    1  19.000000      1      0   7.8542       0.0\n",
              "630               3    0  29.699118      0      0   7.7333       2.0\n",
              "560               3    1  36.000000      1      0  17.4000       0.0\n",
              "685               2    0  60.000000      1      1  39.0000       0.0\n",
              "\n",
              "[668 rows x 7 columns]"
            ],
            "text/html": [
              "\n",
              "  <div id=\"df-b997966d-e307-4d08-be84-cc1b253b2b25\">\n",
              "    <div class=\"colab-df-container\">\n",
              "      <div>\n",
              "<style scoped>\n",
              "    .dataframe tbody tr th:only-of-type {\n",
              "        vertical-align: middle;\n",
              "    }\n",
              "\n",
              "    .dataframe tbody tr th {\n",
              "        vertical-align: top;\n",
              "    }\n",
              "\n",
              "    .dataframe thead th {\n",
              "        text-align: right;\n",
              "    }\n",
              "</style>\n",
              "<table border=\"1\" class=\"dataframe\">\n",
              "  <thead>\n",
              "    <tr style=\"text-align: right;\">\n",
              "      <th></th>\n",
              "      <th>Pclass</th>\n",
              "      <th>Sex</th>\n",
              "      <th>Age</th>\n",
              "      <th>SibSp</th>\n",
              "      <th>Parch</th>\n",
              "      <th>Fare</th>\n",
              "      <th>Embarked</th>\n",
              "    </tr>\n",
              "    <tr>\n",
              "      <th>PassengerId</th>\n",
              "      <th></th>\n",
              "      <th></th>\n",
              "      <th></th>\n",
              "      <th></th>\n",
              "      <th></th>\n",
              "      <th></th>\n",
              "      <th></th>\n",
              "    </tr>\n",
              "  </thead>\n",
              "  <tbody>\n",
              "    <tr>\n",
              "      <th>106</th>\n",
              "      <td>3</td>\n",
              "      <td>0</td>\n",
              "      <td>28.000000</td>\n",
              "      <td>0</td>\n",
              "      <td>0</td>\n",
              "      <td>7.8958</td>\n",
              "      <td>0.0</td>\n",
              "    </tr>\n",
              "    <tr>\n",
              "      <th>69</th>\n",
              "      <td>3</td>\n",
              "      <td>1</td>\n",
              "      <td>17.000000</td>\n",
              "      <td>4</td>\n",
              "      <td>2</td>\n",
              "      <td>7.9250</td>\n",
              "      <td>0.0</td>\n",
              "    </tr>\n",
              "    <tr>\n",
              "      <th>254</th>\n",
              "      <td>3</td>\n",
              "      <td>0</td>\n",
              "      <td>30.000000</td>\n",
              "      <td>1</td>\n",
              "      <td>0</td>\n",
              "      <td>16.1000</td>\n",
              "      <td>0.0</td>\n",
              "    </tr>\n",
              "    <tr>\n",
              "      <th>321</th>\n",
              "      <td>3</td>\n",
              "      <td>0</td>\n",
              "      <td>22.000000</td>\n",
              "      <td>0</td>\n",
              "      <td>0</td>\n",
              "      <td>7.2500</td>\n",
              "      <td>0.0</td>\n",
              "    </tr>\n",
              "    <tr>\n",
              "      <th>707</th>\n",
              "      <td>2</td>\n",
              "      <td>1</td>\n",
              "      <td>45.000000</td>\n",
              "      <td>0</td>\n",
              "      <td>0</td>\n",
              "      <td>13.5000</td>\n",
              "      <td>0.0</td>\n",
              "    </tr>\n",
              "    <tr>\n",
              "      <th>...</th>\n",
              "      <td>...</td>\n",
              "      <td>...</td>\n",
              "      <td>...</td>\n",
              "      <td>...</td>\n",
              "      <td>...</td>\n",
              "      <td>...</td>\n",
              "      <td>...</td>\n",
              "    </tr>\n",
              "    <tr>\n",
              "      <th>836</th>\n",
              "      <td>1</td>\n",
              "      <td>1</td>\n",
              "      <td>39.000000</td>\n",
              "      <td>1</td>\n",
              "      <td>1</td>\n",
              "      <td>83.1583</td>\n",
              "      <td>1.0</td>\n",
              "    </tr>\n",
              "    <tr>\n",
              "      <th>193</th>\n",
              "      <td>3</td>\n",
              "      <td>1</td>\n",
              "      <td>19.000000</td>\n",
              "      <td>1</td>\n",
              "      <td>0</td>\n",
              "      <td>7.8542</td>\n",
              "      <td>0.0</td>\n",
              "    </tr>\n",
              "    <tr>\n",
              "      <th>630</th>\n",
              "      <td>3</td>\n",
              "      <td>0</td>\n",
              "      <td>29.699118</td>\n",
              "      <td>0</td>\n",
              "      <td>0</td>\n",
              "      <td>7.7333</td>\n",
              "      <td>2.0</td>\n",
              "    </tr>\n",
              "    <tr>\n",
              "      <th>560</th>\n",
              "      <td>3</td>\n",
              "      <td>1</td>\n",
              "      <td>36.000000</td>\n",
              "      <td>1</td>\n",
              "      <td>0</td>\n",
              "      <td>17.4000</td>\n",
              "      <td>0.0</td>\n",
              "    </tr>\n",
              "    <tr>\n",
              "      <th>685</th>\n",
              "      <td>2</td>\n",
              "      <td>0</td>\n",
              "      <td>60.000000</td>\n",
              "      <td>1</td>\n",
              "      <td>1</td>\n",
              "      <td>39.0000</td>\n",
              "      <td>0.0</td>\n",
              "    </tr>\n",
              "  </tbody>\n",
              "</table>\n",
              "<p>668 rows × 7 columns</p>\n",
              "</div>\n",
              "      <button class=\"colab-df-convert\" onclick=\"convertToInteractive('df-b997966d-e307-4d08-be84-cc1b253b2b25')\"\n",
              "              title=\"Convert this dataframe to an interactive table.\"\n",
              "              style=\"display:none;\">\n",
              "        \n",
              "  <svg xmlns=\"http://www.w3.org/2000/svg\" height=\"24px\"viewBox=\"0 0 24 24\"\n",
              "       width=\"24px\">\n",
              "    <path d=\"M0 0h24v24H0V0z\" fill=\"none\"/>\n",
              "    <path d=\"M18.56 5.44l.94 2.06.94-2.06 2.06-.94-2.06-.94-.94-2.06-.94 2.06-2.06.94zm-11 1L8.5 8.5l.94-2.06 2.06-.94-2.06-.94L8.5 2.5l-.94 2.06-2.06.94zm10 10l.94 2.06.94-2.06 2.06-.94-2.06-.94-.94-2.06-.94 2.06-2.06.94z\"/><path d=\"M17.41 7.96l-1.37-1.37c-.4-.4-.92-.59-1.43-.59-.52 0-1.04.2-1.43.59L10.3 9.45l-7.72 7.72c-.78.78-.78 2.05 0 2.83L4 21.41c.39.39.9.59 1.41.59.51 0 1.02-.2 1.41-.59l7.78-7.78 2.81-2.81c.8-.78.8-2.07 0-2.86zM5.41 20L4 18.59l7.72-7.72 1.47 1.35L5.41 20z\"/>\n",
              "  </svg>\n",
              "      </button>\n",
              "      \n",
              "  <style>\n",
              "    .colab-df-container {\n",
              "      display:flex;\n",
              "      flex-wrap:wrap;\n",
              "      gap: 12px;\n",
              "    }\n",
              "\n",
              "    .colab-df-convert {\n",
              "      background-color: #E8F0FE;\n",
              "      border: none;\n",
              "      border-radius: 50%;\n",
              "      cursor: pointer;\n",
              "      display: none;\n",
              "      fill: #1967D2;\n",
              "      height: 32px;\n",
              "      padding: 0 0 0 0;\n",
              "      width: 32px;\n",
              "    }\n",
              "\n",
              "    .colab-df-convert:hover {\n",
              "      background-color: #E2EBFA;\n",
              "      box-shadow: 0px 1px 2px rgba(60, 64, 67, 0.3), 0px 1px 3px 1px rgba(60, 64, 67, 0.15);\n",
              "      fill: #174EA6;\n",
              "    }\n",
              "\n",
              "    [theme=dark] .colab-df-convert {\n",
              "      background-color: #3B4455;\n",
              "      fill: #D2E3FC;\n",
              "    }\n",
              "\n",
              "    [theme=dark] .colab-df-convert:hover {\n",
              "      background-color: #434B5C;\n",
              "      box-shadow: 0px 1px 3px 1px rgba(0, 0, 0, 0.15);\n",
              "      filter: drop-shadow(0px 1px 2px rgba(0, 0, 0, 0.3));\n",
              "      fill: #FFFFFF;\n",
              "    }\n",
              "  </style>\n",
              "\n",
              "      <script>\n",
              "        const buttonEl =\n",
              "          document.querySelector('#df-b997966d-e307-4d08-be84-cc1b253b2b25 button.colab-df-convert');\n",
              "        buttonEl.style.display =\n",
              "          google.colab.kernel.accessAllowed ? 'block' : 'none';\n",
              "\n",
              "        async function convertToInteractive(key) {\n",
              "          const element = document.querySelector('#df-b997966d-e307-4d08-be84-cc1b253b2b25');\n",
              "          const dataTable =\n",
              "            await google.colab.kernel.invokeFunction('convertToInteractive',\n",
              "                                                     [key], {});\n",
              "          if (!dataTable) return;\n",
              "\n",
              "          const docLinkHtml = 'Like what you see? Visit the ' +\n",
              "            '<a target=\"_blank\" href=https://colab.research.google.com/notebooks/data_table.ipynb>data table notebook</a>'\n",
              "            + ' to learn more about interactive tables.';\n",
              "          element.innerHTML = '';\n",
              "          dataTable['output_type'] = 'display_data';\n",
              "          await google.colab.output.renderOutput(dataTable, element);\n",
              "          const docLink = document.createElement('div');\n",
              "          docLink.innerHTML = docLinkHtml;\n",
              "          element.appendChild(docLink);\n",
              "        }\n",
              "      </script>\n",
              "    </div>\n",
              "  </div>\n",
              "  "
            ]
          },
          "metadata": {},
          "execution_count": 42
        }
      ]
    },
    {
      "cell_type": "markdown",
      "source": [
        "#Target class distribution#"
      ],
      "metadata": {
        "id": "rT43hOlriePZ"
      }
    },
    {
      "cell_type": "code",
      "source": [
        "target = df['Survived']\n",
        "target.value_counts()"
      ],
      "metadata": {
        "colab": {
          "base_uri": "https://localhost:8080/"
        },
        "id": "kbYlLGF1ifDM",
        "outputId": "bbfd6cc7-67fd-4f9d-9a50-5e3f82e201f7"
      },
      "execution_count": 43,
      "outputs": [
        {
          "output_type": "execute_result",
          "data": {
            "text/plain": [
              "0    549\n",
              "1    342\n",
              "Name: Survived, dtype: int64"
            ]
          },
          "metadata": {},
          "execution_count": 43
        }
      ]
    },
    {
      "cell_type": "code",
      "source": [
        "# df = pd.read_csv('/content/sample_data/train.csv')\n",
        "# df\n",
        "# df = preprocess(df)"
      ],
      "metadata": {
        "id": "slm3aabuiFIg"
      },
      "execution_count": 44,
      "outputs": []
    },
    {
      "cell_type": "code",
      "source": [
        "# df.isna().sum()"
      ],
      "metadata": {
        "id": "_WNF9zjFlTmI"
      },
      "execution_count": 45,
      "outputs": []
    },
    {
      "cell_type": "markdown",
      "source": [
        "#Define and train the models #"
      ],
      "metadata": {
        "id": "hP3pzJVEilDy"
      }
    },
    {
      "cell_type": "markdown",
      "source": [
        "DecisionTreeClassifier"
      ],
      "metadata": {
        "id": "mkkAXh6XimDY"
      }
    },
    {
      "cell_type": "code",
      "source": [
        "# defining our tree object with the hyper parameters discussed above\n",
        "model = DecisionTreeClassifier(\n",
        "    splitter='best',\n",
        "    min_samples_split=3,\n",
        "    max_depth= 5,\n",
        ")\n",
        "\n",
        "\n",
        "model.fit(\n",
        "    X_train,\n",
        "    y_train\n",
        "    # X=df.drop(columns=['Survived']), \n",
        "    # y=df['Survived']\n",
        ")"
      ],
      "metadata": {
        "colab": {
          "base_uri": "https://localhost:8080/"
        },
        "id": "jFm2riWfkIPn",
        "outputId": "f5c43fa5-2ef4-46ce-ba6b-f66954fd3139"
      },
      "execution_count": 46,
      "outputs": [
        {
          "output_type": "execute_result",
          "data": {
            "text/plain": [
              "DecisionTreeClassifier(max_depth=5, min_samples_split=3)"
            ]
          },
          "metadata": {},
          "execution_count": 46
        }
      ]
    },
    {
      "cell_type": "code",
      "source": [
        "# plt.figure(figsize=(10, 10))\n",
        "# plot_tree(\n",
        "#     model,\n",
        "#     feature_names=['Pclass',\t'Sex',\t'Age',\t'SibSp',\t'Parch',\t'Fare',\t'Embarked'],  \n",
        "#     class_names=['Not Survived', 'Survived'],\n",
        "#     impurity=False,\n",
        "#     filled=True,\n",
        "#     fontsize=18\n",
        "# )\n",
        "# plt.show()"
      ],
      "metadata": {
        "id": "o-ibl52mkdDb"
      },
      "execution_count": 47,
      "outputs": []
    },
    {
      "cell_type": "code",
      "source": [
        "# # 892\n",
        "# #893\n",
        "# inputs = pd.DataFrame([{'Pclass':3,\t'Sex':0,\t'Age':34.5,\t'SibSp':0,\t'Parch':0,\t'Fare':7.8292,'Embarked':2},{'Pclass':3,\t'Sex':1,\t'Age':47,\t'SibSp':1,\t'Parch':0,\t'Fare':7,'Embarked':0}])\n",
        "# prediction = model.predict(\n",
        "#     inputs\n",
        "# )\n",
        "# print(f\"892, Survived: {bool(prediction[0])}\")\n",
        "# print(f\"893, Survived: {bool(prediction[1])}\")"
      ],
      "metadata": {
        "id": "f8EPKX6DmgT_"
      },
      "execution_count": 48,
      "outputs": []
    },
    {
      "cell_type": "code",
      "source": [
        "# df_test = pd.read_csv('/content/sample_data/test.csv')\n",
        "# df_test = preprocess(df_test)"
      ],
      "metadata": {
        "id": "D8kqnIIkPtbw"
      },
      "execution_count": 49,
      "outputs": []
    },
    {
      "cell_type": "code",
      "source": [
        "target = df['Survived']\n",
        "target.value_counts()\n",
        "\n",
        "# plt.figure(figsize=(12, 8))\n",
        "# plt.bar(target,max(target))\n",
        "# plt.xlabel(\"Survived\")\n",
        "# plt.show()"
      ],
      "metadata": {
        "colab": {
          "base_uri": "https://localhost:8080/"
        },
        "id": "7rtRgj_zQSgc",
        "outputId": "2efdc45e-fa92-4c1c-bd22-6fb7b39b6f9b"
      },
      "execution_count": 50,
      "outputs": [
        {
          "output_type": "execute_result",
          "data": {
            "text/plain": [
              "0    549\n",
              "1    342\n",
              "Name: Survived, dtype: int64"
            ]
          },
          "metadata": {},
          "execution_count": 50
        }
      ]
    },
    {
      "cell_type": "markdown",
      "source": [
        "#Evaluate#\n",
        "Accuracy = Correct Predictions / Total Predictions"
      ],
      "metadata": {
        "id": "2QtEHSCtZQ0-"
      }
    },
    {
      "cell_type": "code",
      "source": [
        "inputs = pd.DataFrame(X_test)\n",
        "prediction_DecisionTreeClassifier = model.predict(\n",
        "    inputs\n",
        ")\n",
        "accuracy_DecisionTreeClassifier = accuracy_score(y_test,prediction_DecisionTreeClassifier)\n",
        "print(f\"Accuracy score of DecisionTreeClassifier = {accuracy_DecisionTreeClassifier}\")"
      ],
      "metadata": {
        "colab": {
          "base_uri": "https://localhost:8080/"
        },
        "id": "Zlb3DmHPQWiJ",
        "outputId": "7af140ad-ca10-437c-bcac-f79fbf5a40f0"
      },
      "execution_count": 51,
      "outputs": [
        {
          "output_type": "stream",
          "name": "stdout",
          "text": [
            "Accuracy score of DecisionTreeClassifier = 0.820627802690583\n"
          ]
        }
      ]
    },
    {
      "cell_type": "markdown",
      "source": [
        "https://www.kaggle.com/code/zlatankr/titanic-random-forest-82-78"
      ],
      "metadata": {
        "id": "d1xEtWzdp6F2"
      }
    },
    {
      "cell_type": "code",
      "source": [
        "from sklearn.ensemble import RandomForestClassifier\n",
        "\n",
        "model_rf = RandomForestClassifier(criterion='gini', \n",
        "                             n_estimators=700,\n",
        "                             min_samples_split=10,\n",
        "                             min_samples_leaf=1,\n",
        "                             max_features='auto',\n",
        "                             oob_score=True,\n",
        "                             random_state=1,\n",
        "                             n_jobs=-1)\n",
        "\n",
        "model_rf.fit(\n",
        "    X_train,\n",
        "    y_train\n",
        "    # X=df.drop(columns=['Survived']), \n",
        "    # y=df['Survived']\n",
        ")\n",
        "print(\"%.4f\" % model_rf.oob_score_)"
      ],
      "metadata": {
        "colab": {
          "base_uri": "https://localhost:8080/"
        },
        "id": "s5kECCn1pRcC",
        "outputId": "878219e8-b171-4c79-8403-0e894f37aacb"
      },
      "execution_count": 52,
      "outputs": [
        {
          "output_type": "stream",
          "name": "stderr",
          "text": [
            "<ipython-input-52-6fe339c8d06b>:12: DataConversionWarning: A column-vector y was passed when a 1d array was expected. Please change the shape of y to (n_samples,), for example using ravel().\n",
            "  model_rf.fit(\n"
          ]
        },
        {
          "output_type": "stream",
          "name": "stdout",
          "text": [
            "0.8129\n"
          ]
        }
      ]
    },
    {
      "cell_type": "code",
      "source": [
        "inputs = pd.DataFrame(X_test)\n",
        "prediction_RandomForestClassifier = model_rf.predict(\n",
        "    inputs\n",
        ")\n",
        "accuracy_RandomForestClassifier = accuracy_score(y_test,prediction_RandomForestClassifier)\n",
        "print(f\"Accuracy score of RandomForestClassifier = {accuracy_RandomForestClassifier}\")"
      ],
      "metadata": {
        "colab": {
          "base_uri": "https://localhost:8080/"
        },
        "id": "Dm7se-84Q1-U",
        "outputId": "6e9709cd-6103-4d7e-e68d-68d443be4df4"
      },
      "execution_count": 53,
      "outputs": [
        {
          "output_type": "stream",
          "name": "stdout",
          "text": [
            "Accuracy score of RandomForestClassifier = 0.8385650224215246\n"
          ]
        }
      ]
    },
    {
      "cell_type": "code",
      "source": [],
      "metadata": {
        "id": "zATILbDGjOh-"
      },
      "execution_count": 53,
      "outputs": []
    },
    {
      "cell_type": "markdown",
      "source": [
        "Extremely Randomized Trees"
      ],
      "metadata": {
        "id": "Mccu_t-_qIJv"
      }
    },
    {
      "cell_type": "code",
      "source": [
        "from sklearn.ensemble import ExtraTreesClassifier\n",
        "\n",
        "model_ExtraTreesClassifier = ExtraTreesClassifier()\n",
        "# rf.fit(df.iloc[:, 1:], df.iloc[:, 0])\n",
        "model_ExtraTreesClassifier.fit(\n",
        "    X_train,\n",
        "    y_train\n",
        "    # X=df.drop(columns=['Survived']), \n",
        "    # y=df['Survived']\n",
        ")"
      ],
      "metadata": {
        "colab": {
          "base_uri": "https://localhost:8080/"
        },
        "id": "MP94vtpdqIea",
        "outputId": "187eba57-58a7-4e0f-c630-e535e77f7cd0"
      },
      "execution_count": 54,
      "outputs": [
        {
          "output_type": "stream",
          "name": "stderr",
          "text": [
            "<ipython-input-54-c59b68746e4a>:5: DataConversionWarning: A column-vector y was passed when a 1d array was expected. Please change the shape of y to (n_samples,), for example using ravel().\n",
            "  model_ExtraTreesClassifier.fit(\n"
          ]
        },
        {
          "output_type": "execute_result",
          "data": {
            "text/plain": [
              "ExtraTreesClassifier()"
            ]
          },
          "metadata": {},
          "execution_count": 54
        }
      ]
    },
    {
      "cell_type": "code",
      "source": [
        "inputs = pd.DataFrame(X_test)\n",
        "prediction_ExtraTreesClassifier = model_ExtraTreesClassifier.predict(\n",
        "    inputs\n",
        ")\n",
        "accuracy_ExtraTreesClassifier = accuracy_score(y_test,prediction_ExtraTreesClassifier)\n",
        "print(f\"Accuracy score of ExtraTreesClassifier = {accuracy_ExtraTreesClassifier}\")"
      ],
      "metadata": {
        "colab": {
          "base_uri": "https://localhost:8080/"
        },
        "id": "pk4S3yZyQ7xa",
        "outputId": "1c06eef5-4512-4dea-d2f6-66f5ef84d0ff"
      },
      "execution_count": 55,
      "outputs": [
        {
          "output_type": "stream",
          "name": "stdout",
          "text": [
            "Accuracy score of ExtraTreesClassifier = 0.7937219730941704\n"
          ]
        }
      ]
    },
    {
      "cell_type": "markdown",
      "source": [
        "*Summary - Titanic dataset accuracy score*"
      ],
      "metadata": {
        "id": "MdE95IV6jOZB"
      }
    },
    {
      "cell_type": "code",
      "source": [
        "from tabulate import tabulate\n",
        "print(tabulate([[\"Accuracy\",accuracy_DecisionTreeClassifier,accuracy_RandomForestClassifier,accuracy_ExtraTreesClassifier]], headers=[\"Model\",\"DecisionTreeClassifier\",\"RandomForestClassifier\",\"ExtraTreesClassifier\"], tablefmt=\"grid\"))"
      ],
      "metadata": {
        "colab": {
          "base_uri": "https://localhost:8080/"
        },
        "id": "rDsLDB-SjTvk",
        "outputId": "b81c9611-2552-4491-97b5-f5d84a7cbb2a"
      },
      "execution_count": 56,
      "outputs": [
        {
          "output_type": "stream",
          "name": "stdout",
          "text": [
            "+----------+--------------------------+--------------------------+------------------------+\n",
            "| Model    |   DecisionTreeClassifier |   RandomForestClassifier |   ExtraTreesClassifier |\n",
            "+==========+==========================+==========================+========================+\n",
            "| Accuracy |                 0.820628 |                 0.838565 |               0.793722 |\n",
            "+----------+--------------------------+--------------------------+------------------------+\n"
          ]
        }
      ]
    }
  ]
}