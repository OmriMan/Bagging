{
  "nbformat": 4,
  "nbformat_minor": 0,
  "metadata": {
    "colab": {
      "provenance": [],
      "authorship_tag": "ABX9TyOU1HF/dT34p8ZZMgsXwKRJ",
      "include_colab_link": true
    },
    "kernelspec": {
      "name": "python3",
      "display_name": "Python 3"
    },
    "language_info": {
      "name": "python"
    }
  },
  "cells": [
    {
      "cell_type": "markdown",
      "metadata": {
        "id": "view-in-github",
        "colab_type": "text"
      },
      "source": [
        "<a href=\"https://colab.research.google.com/github/OmriMan/Bagging/blob/main/Assignment2_Loan.ipynb\" target=\"_parent\"><img src=\"https://colab.research.google.com/assets/colab-badge.svg\" alt=\"Open In Colab\"/></a>"
      ]
    },
    {
      "cell_type": "markdown",
      "source": [
        "Packages"
      ],
      "metadata": {
        "id": "5jx6fA6gLmUp"
      }
    },
    {
      "cell_type": "code",
      "execution_count": 123,
      "metadata": {
        "id": "wRSORB7pr4YE"
      },
      "outputs": [],
      "source": [
        "import numpy as np  # linear algebra\n",
        "import pandas as pd  # data processing\n",
        "\n",
        "from sklearn.tree import DecisionTreeClassifier  # model\n",
        "\n",
        "from matplotlib import pyplot as plt  # visualization\n",
        "from sklearn.tree import plot_tree  # visualize tree\n",
        "\n",
        "from sklearn.model_selection import train_test_split\n",
        "\n",
        "from sklearn.metrics import accuracy_score"
      ]
    },
    {
      "cell_type": "markdown",
      "source": [
        "#Dataset Loan#\n",
        "Gender: Female = 1,Male = 0\n",
        "\n",
        "Married: No=0,Yes = 1\n",
        "\n",
        "Dependents: 1 , 2, '3+' = 3\n",
        "\n",
        "Education: Not Graduate=0,Graduate=1\n",
        "\n",
        "Self_Employed: Missing values ​​were replaced by '1' in the data set\n",
        "\n",
        "ApplicantIncome: Applicant Income - number\n",
        "\n",
        "CoapplicantIncome: Coapplicant Income  - number\n",
        "\n",
        "Loan Amount: number \n",
        "\n",
        "Loan_Amount_Term: Loan amount term in days, number  \n",
        "\n",
        "Credit_History: Applicant credit history, binary\n",
        "\n",
        "Property_Area: We did not use this feature\n",
        "\n",
        "Loan_Status: Yes = 1, No=0"
      ],
      "metadata": {
        "id": "DXXA_jCULpKD"
      }
    },
    {
      "cell_type": "code",
      "source": [
        "def preprocess(df):\n",
        "    # Putting on index to each dataset before split it\n",
        "    # df = df.set_index(\"PassengerId\")\n",
        "    # Gender\n",
        "    change = {'Female':1,'Male':0}\n",
        "    df.Gender = df.Gender.map(change)\n",
        "    df['Gender'] = df['Gender'].replace(to_replace = np.nan, value = 1)\n",
        "\n",
        "    # Education\n",
        "    change = {'Not Graduate':0,'Yes':1}\n",
        "    df.Education = df.Education.map(change)\n",
        "    df['Education'] = df['Education'].replace(to_replace = np.nan, value =1)\n",
        "\n",
        "    # \tDependents\n",
        "    change = {'0':0,'1':1,'2':2,'3+':3,'+3':3}\n",
        "    df.Dependents = df.Dependents.map(change)\n",
        "\n",
        "\n",
        "    # Married\n",
        "    change = {'No':0,'Yes':1}\n",
        "    df.Married = df.Married.map(change)\n",
        "    # df['Married'] = df['Married'].replace(to_replace = np.nan, value =1)\n",
        "\n",
        "    #Self_Employed\n",
        "    df.Self_Employed = df.Self_Employed.map(change)\n",
        "    df['Self_Employed'] = df['Self_Employed'].replace(to_replace = np.nan, value =1)\n",
        "\n",
        "    #Loan_Status\n",
        "    change = {'N':0,'Y':1}\n",
        "    df.Loan_Status = df.Loan_Status.map(change)\n",
        "\n",
        "    # #ApplicantIncome\n",
        "    # df['ApplicantIncome'] = df['ApplicantIncome']/1000\n",
        "\n",
        "    # #CoapplicantIncome\n",
        "    # df['CoapplicantIncome'] = df['CoapplicantIncome']/1000\n",
        "\n",
        "    df = df.drop(columns=['Property_Area'])\n",
        "    return df"
      ],
      "metadata": {
        "id": "GFjqv9P1Lq6H"
      },
      "execution_count": 124,
      "outputs": []
    },
    {
      "cell_type": "markdown",
      "source": [
        "Load the data set"
      ],
      "metadata": {
        "id": "pOFr9U-jfdVD"
      }
    },
    {
      "cell_type": "code",
      "source": [
        "df = pd.read_csv('/content/sample_data/Loan.csv')\n",
        "df = preprocess(df)\n",
        "features = ['Gender',\t'Married',\t'Dependents',\t'Education',\t'Self_Employed',\t'ApplicantIncome',\t'CoapplicantIncome',\t'LoanAmount',\t'Loan_Amount_Term',\t'Credit_History']\n",
        "X = df.loc[:, features]\n",
        "y = df.loc[:, ['Loan_Status']]"
      ],
      "metadata": {
        "id": "UNnJmYInffWK"
      },
      "execution_count": 125,
      "outputs": []
    },
    {
      "cell_type": "markdown",
      "source": [
        "Split the data into training and testin sets"
      ],
      "metadata": {
        "id": "iEy9IOIwfvyQ"
      }
    },
    {
      "cell_type": "code",
      "source": [
        "X_train, X_test, y_train, y_test = train_test_split(X, y, random_state=0, train_size = .75)"
      ],
      "metadata": {
        "id": "qzjtxXKVftbR"
      },
      "execution_count": 126,
      "outputs": []
    },
    {
      "cell_type": "code",
      "source": [
        "X_test"
      ],
      "metadata": {
        "colab": {
          "base_uri": "https://localhost:8080/",
          "height": 424
        },
        "id": "axJuI5TEf4Bz",
        "outputId": "20d7e919-b231-41d7-879b-aa74cd3a9a8b"
      },
      "execution_count": 127,
      "outputs": [
        {
          "output_type": "execute_result",
          "data": {
            "text/plain": [
              "      Gender  Married  Dependents  Education  Self_Employed  ApplicantIncome  \\\n",
              "744      1.0        1           3        1.0            0.0            51763   \n",
              "728      0.0        1           2        1.0            0.0             3100   \n",
              "907      1.0        1           1        1.0            1.0             9833   \n",
              "915      0.0        1           1        0.0            0.0             4554   \n",
              "496      0.0        1           0        0.0            0.0             2600   \n",
              "...      ...      ...         ...        ...            ...              ...   \n",
              "946      0.0        0           1        1.0            0.0             3062   \n",
              "113      1.0        0           1        1.0            1.0             7451   \n",
              "655      0.0        1           3        1.0            0.0             4342   \n",
              "37       1.0        1           0        1.0            0.0             3667   \n",
              "1022     0.0        0           1        0.0            1.0             2769   \n",
              "\n",
              "      CoapplicantIncome  LoanAmount  Loan_Amount_Term  Credit_History  \n",
              "744                 0.0         700               300               1  \n",
              "728              1400.0         113               360               1  \n",
              "907              1833.0         182               180               1  \n",
              "915              1229.0         158               360               1  \n",
              "496              1700.0         107               360               1  \n",
              "...                 ...         ...               ...             ...  \n",
              "946              1987.0         111               180               0  \n",
              "113                 0.0         182               360               1  \n",
              "655               189.0         124               360               1  \n",
              "37               1459.0         144               360               1  \n",
              "1022             1542.0         190               360               1  \n",
              "\n",
              "[264 rows x 10 columns]"
            ],
            "text/html": [
              "\n",
              "  <div id=\"df-6a1cae63-f1b7-45c6-b5c8-840c1087c2fa\">\n",
              "    <div class=\"colab-df-container\">\n",
              "      <div>\n",
              "<style scoped>\n",
              "    .dataframe tbody tr th:only-of-type {\n",
              "        vertical-align: middle;\n",
              "    }\n",
              "\n",
              "    .dataframe tbody tr th {\n",
              "        vertical-align: top;\n",
              "    }\n",
              "\n",
              "    .dataframe thead th {\n",
              "        text-align: right;\n",
              "    }\n",
              "</style>\n",
              "<table border=\"1\" class=\"dataframe\">\n",
              "  <thead>\n",
              "    <tr style=\"text-align: right;\">\n",
              "      <th></th>\n",
              "      <th>Gender</th>\n",
              "      <th>Married</th>\n",
              "      <th>Dependents</th>\n",
              "      <th>Education</th>\n",
              "      <th>Self_Employed</th>\n",
              "      <th>ApplicantIncome</th>\n",
              "      <th>CoapplicantIncome</th>\n",
              "      <th>LoanAmount</th>\n",
              "      <th>Loan_Amount_Term</th>\n",
              "      <th>Credit_History</th>\n",
              "    </tr>\n",
              "  </thead>\n",
              "  <tbody>\n",
              "    <tr>\n",
              "      <th>744</th>\n",
              "      <td>1.0</td>\n",
              "      <td>1</td>\n",
              "      <td>3</td>\n",
              "      <td>1.0</td>\n",
              "      <td>0.0</td>\n",
              "      <td>51763</td>\n",
              "      <td>0.0</td>\n",
              "      <td>700</td>\n",
              "      <td>300</td>\n",
              "      <td>1</td>\n",
              "    </tr>\n",
              "    <tr>\n",
              "      <th>728</th>\n",
              "      <td>0.0</td>\n",
              "      <td>1</td>\n",
              "      <td>2</td>\n",
              "      <td>1.0</td>\n",
              "      <td>0.0</td>\n",
              "      <td>3100</td>\n",
              "      <td>1400.0</td>\n",
              "      <td>113</td>\n",
              "      <td>360</td>\n",
              "      <td>1</td>\n",
              "    </tr>\n",
              "    <tr>\n",
              "      <th>907</th>\n",
              "      <td>1.0</td>\n",
              "      <td>1</td>\n",
              "      <td>1</td>\n",
              "      <td>1.0</td>\n",
              "      <td>1.0</td>\n",
              "      <td>9833</td>\n",
              "      <td>1833.0</td>\n",
              "      <td>182</td>\n",
              "      <td>180</td>\n",
              "      <td>1</td>\n",
              "    </tr>\n",
              "    <tr>\n",
              "      <th>915</th>\n",
              "      <td>0.0</td>\n",
              "      <td>1</td>\n",
              "      <td>1</td>\n",
              "      <td>0.0</td>\n",
              "      <td>0.0</td>\n",
              "      <td>4554</td>\n",
              "      <td>1229.0</td>\n",
              "      <td>158</td>\n",
              "      <td>360</td>\n",
              "      <td>1</td>\n",
              "    </tr>\n",
              "    <tr>\n",
              "      <th>496</th>\n",
              "      <td>0.0</td>\n",
              "      <td>1</td>\n",
              "      <td>0</td>\n",
              "      <td>0.0</td>\n",
              "      <td>0.0</td>\n",
              "      <td>2600</td>\n",
              "      <td>1700.0</td>\n",
              "      <td>107</td>\n",
              "      <td>360</td>\n",
              "      <td>1</td>\n",
              "    </tr>\n",
              "    <tr>\n",
              "      <th>...</th>\n",
              "      <td>...</td>\n",
              "      <td>...</td>\n",
              "      <td>...</td>\n",
              "      <td>...</td>\n",
              "      <td>...</td>\n",
              "      <td>...</td>\n",
              "      <td>...</td>\n",
              "      <td>...</td>\n",
              "      <td>...</td>\n",
              "      <td>...</td>\n",
              "    </tr>\n",
              "    <tr>\n",
              "      <th>946</th>\n",
              "      <td>0.0</td>\n",
              "      <td>0</td>\n",
              "      <td>1</td>\n",
              "      <td>1.0</td>\n",
              "      <td>0.0</td>\n",
              "      <td>3062</td>\n",
              "      <td>1987.0</td>\n",
              "      <td>111</td>\n",
              "      <td>180</td>\n",
              "      <td>0</td>\n",
              "    </tr>\n",
              "    <tr>\n",
              "      <th>113</th>\n",
              "      <td>1.0</td>\n",
              "      <td>0</td>\n",
              "      <td>1</td>\n",
              "      <td>1.0</td>\n",
              "      <td>1.0</td>\n",
              "      <td>7451</td>\n",
              "      <td>0.0</td>\n",
              "      <td>182</td>\n",
              "      <td>360</td>\n",
              "      <td>1</td>\n",
              "    </tr>\n",
              "    <tr>\n",
              "      <th>655</th>\n",
              "      <td>0.0</td>\n",
              "      <td>1</td>\n",
              "      <td>3</td>\n",
              "      <td>1.0</td>\n",
              "      <td>0.0</td>\n",
              "      <td>4342</td>\n",
              "      <td>189.0</td>\n",
              "      <td>124</td>\n",
              "      <td>360</td>\n",
              "      <td>1</td>\n",
              "    </tr>\n",
              "    <tr>\n",
              "      <th>37</th>\n",
              "      <td>1.0</td>\n",
              "      <td>1</td>\n",
              "      <td>0</td>\n",
              "      <td>1.0</td>\n",
              "      <td>0.0</td>\n",
              "      <td>3667</td>\n",
              "      <td>1459.0</td>\n",
              "      <td>144</td>\n",
              "      <td>360</td>\n",
              "      <td>1</td>\n",
              "    </tr>\n",
              "    <tr>\n",
              "      <th>1022</th>\n",
              "      <td>0.0</td>\n",
              "      <td>0</td>\n",
              "      <td>1</td>\n",
              "      <td>0.0</td>\n",
              "      <td>1.0</td>\n",
              "      <td>2769</td>\n",
              "      <td>1542.0</td>\n",
              "      <td>190</td>\n",
              "      <td>360</td>\n",
              "      <td>1</td>\n",
              "    </tr>\n",
              "  </tbody>\n",
              "</table>\n",
              "<p>264 rows × 10 columns</p>\n",
              "</div>\n",
              "      <button class=\"colab-df-convert\" onclick=\"convertToInteractive('df-6a1cae63-f1b7-45c6-b5c8-840c1087c2fa')\"\n",
              "              title=\"Convert this dataframe to an interactive table.\"\n",
              "              style=\"display:none;\">\n",
              "        \n",
              "  <svg xmlns=\"http://www.w3.org/2000/svg\" height=\"24px\"viewBox=\"0 0 24 24\"\n",
              "       width=\"24px\">\n",
              "    <path d=\"M0 0h24v24H0V0z\" fill=\"none\"/>\n",
              "    <path d=\"M18.56 5.44l.94 2.06.94-2.06 2.06-.94-2.06-.94-.94-2.06-.94 2.06-2.06.94zm-11 1L8.5 8.5l.94-2.06 2.06-.94-2.06-.94L8.5 2.5l-.94 2.06-2.06.94zm10 10l.94 2.06.94-2.06 2.06-.94-2.06-.94-.94-2.06-.94 2.06-2.06.94z\"/><path d=\"M17.41 7.96l-1.37-1.37c-.4-.4-.92-.59-1.43-.59-.52 0-1.04.2-1.43.59L10.3 9.45l-7.72 7.72c-.78.78-.78 2.05 0 2.83L4 21.41c.39.39.9.59 1.41.59.51 0 1.02-.2 1.41-.59l7.78-7.78 2.81-2.81c.8-.78.8-2.07 0-2.86zM5.41 20L4 18.59l7.72-7.72 1.47 1.35L5.41 20z\"/>\n",
              "  </svg>\n",
              "      </button>\n",
              "      \n",
              "  <style>\n",
              "    .colab-df-container {\n",
              "      display:flex;\n",
              "      flex-wrap:wrap;\n",
              "      gap: 12px;\n",
              "    }\n",
              "\n",
              "    .colab-df-convert {\n",
              "      background-color: #E8F0FE;\n",
              "      border: none;\n",
              "      border-radius: 50%;\n",
              "      cursor: pointer;\n",
              "      display: none;\n",
              "      fill: #1967D2;\n",
              "      height: 32px;\n",
              "      padding: 0 0 0 0;\n",
              "      width: 32px;\n",
              "    }\n",
              "\n",
              "    .colab-df-convert:hover {\n",
              "      background-color: #E2EBFA;\n",
              "      box-shadow: 0px 1px 2px rgba(60, 64, 67, 0.3), 0px 1px 3px 1px rgba(60, 64, 67, 0.15);\n",
              "      fill: #174EA6;\n",
              "    }\n",
              "\n",
              "    [theme=dark] .colab-df-convert {\n",
              "      background-color: #3B4455;\n",
              "      fill: #D2E3FC;\n",
              "    }\n",
              "\n",
              "    [theme=dark] .colab-df-convert:hover {\n",
              "      background-color: #434B5C;\n",
              "      box-shadow: 0px 1px 3px 1px rgba(0, 0, 0, 0.15);\n",
              "      filter: drop-shadow(0px 1px 2px rgba(0, 0, 0, 0.3));\n",
              "      fill: #FFFFFF;\n",
              "    }\n",
              "  </style>\n",
              "\n",
              "      <script>\n",
              "        const buttonEl =\n",
              "          document.querySelector('#df-6a1cae63-f1b7-45c6-b5c8-840c1087c2fa button.colab-df-convert');\n",
              "        buttonEl.style.display =\n",
              "          google.colab.kernel.accessAllowed ? 'block' : 'none';\n",
              "\n",
              "        async function convertToInteractive(key) {\n",
              "          const element = document.querySelector('#df-6a1cae63-f1b7-45c6-b5c8-840c1087c2fa');\n",
              "          const dataTable =\n",
              "            await google.colab.kernel.invokeFunction('convertToInteractive',\n",
              "                                                     [key], {});\n",
              "          if (!dataTable) return;\n",
              "\n",
              "          const docLinkHtml = 'Like what you see? Visit the ' +\n",
              "            '<a target=\"_blank\" href=https://colab.research.google.com/notebooks/data_table.ipynb>data table notebook</a>'\n",
              "            + ' to learn more about interactive tables.';\n",
              "          element.innerHTML = '';\n",
              "          dataTable['output_type'] = 'display_data';\n",
              "          await google.colab.output.renderOutput(dataTable, element);\n",
              "          const docLink = document.createElement('div');\n",
              "          docLink.innerHTML = docLinkHtml;\n",
              "          element.appendChild(docLink);\n",
              "        }\n",
              "      </script>\n",
              "    </div>\n",
              "  </div>\n",
              "  "
            ]
          },
          "metadata": {},
          "execution_count": 127
        }
      ]
    },
    {
      "cell_type": "code",
      "source": [
        "X_test.isna().sum\n",
        "X_train"
      ],
      "metadata": {
        "colab": {
          "base_uri": "https://localhost:8080/",
          "height": 424
        },
        "id": "zggviJjWf1uc",
        "outputId": "79f8619d-4fda-48ea-b6fc-c459036828f2"
      },
      "execution_count": 128,
      "outputs": [
        {
          "output_type": "execute_result",
          "data": {
            "text/plain": [
              "      Gender  Married  Dependents  Education  Self_Employed  ApplicantIncome  \\\n",
              "158      0.0        0           0        1.0            0.0             2980   \n",
              "40       0.0        0           0        1.0            0.0             3600   \n",
              "757      1.0        1           0        1.0            0.0             3625   \n",
              "440      0.0        0           0        1.0            0.0             3660   \n",
              "927      1.0        1           0        1.0            0.0             2423   \n",
              "...      ...      ...         ...        ...            ...              ...   \n",
              "1033     1.0        1           0        1.0            1.0             2083   \n",
              "763      0.0        0           0        0.0            0.0             4885   \n",
              "835      1.0        0           1        1.0            0.0             3481   \n",
              "559      1.0        1           0        1.0            0.0             4180   \n",
              "684      0.0        1           0        1.0            0.0             9083   \n",
              "\n",
              "      CoapplicantIncome  LoanAmount  Loan_Amount_Term  Credit_History  \n",
              "158              2083.0         120               360               1  \n",
              "40                  0.0          80               360               1  \n",
              "757                 0.0         108               360               1  \n",
              "440              5064.0         187               360               1  \n",
              "927               505.0         130               360               1  \n",
              "...                 ...         ...               ...             ...  \n",
              "1033             4083.0         160               360               1  \n",
              "763                 0.0          48               360               1  \n",
              "835                 0.0         155                36               1  \n",
              "559              2306.0         182               360               1  \n",
              "684                 0.0         228               360               1  \n",
              "\n",
              "[789 rows x 10 columns]"
            ],
            "text/html": [
              "\n",
              "  <div id=\"df-e275eb32-4740-4b6f-803c-916a51e9a9aa\">\n",
              "    <div class=\"colab-df-container\">\n",
              "      <div>\n",
              "<style scoped>\n",
              "    .dataframe tbody tr th:only-of-type {\n",
              "        vertical-align: middle;\n",
              "    }\n",
              "\n",
              "    .dataframe tbody tr th {\n",
              "        vertical-align: top;\n",
              "    }\n",
              "\n",
              "    .dataframe thead th {\n",
              "        text-align: right;\n",
              "    }\n",
              "</style>\n",
              "<table border=\"1\" class=\"dataframe\">\n",
              "  <thead>\n",
              "    <tr style=\"text-align: right;\">\n",
              "      <th></th>\n",
              "      <th>Gender</th>\n",
              "      <th>Married</th>\n",
              "      <th>Dependents</th>\n",
              "      <th>Education</th>\n",
              "      <th>Self_Employed</th>\n",
              "      <th>ApplicantIncome</th>\n",
              "      <th>CoapplicantIncome</th>\n",
              "      <th>LoanAmount</th>\n",
              "      <th>Loan_Amount_Term</th>\n",
              "      <th>Credit_History</th>\n",
              "    </tr>\n",
              "  </thead>\n",
              "  <tbody>\n",
              "    <tr>\n",
              "      <th>158</th>\n",
              "      <td>0.0</td>\n",
              "      <td>0</td>\n",
              "      <td>0</td>\n",
              "      <td>1.0</td>\n",
              "      <td>0.0</td>\n",
              "      <td>2980</td>\n",
              "      <td>2083.0</td>\n",
              "      <td>120</td>\n",
              "      <td>360</td>\n",
              "      <td>1</td>\n",
              "    </tr>\n",
              "    <tr>\n",
              "      <th>40</th>\n",
              "      <td>0.0</td>\n",
              "      <td>0</td>\n",
              "      <td>0</td>\n",
              "      <td>1.0</td>\n",
              "      <td>0.0</td>\n",
              "      <td>3600</td>\n",
              "      <td>0.0</td>\n",
              "      <td>80</td>\n",
              "      <td>360</td>\n",
              "      <td>1</td>\n",
              "    </tr>\n",
              "    <tr>\n",
              "      <th>757</th>\n",
              "      <td>1.0</td>\n",
              "      <td>1</td>\n",
              "      <td>0</td>\n",
              "      <td>1.0</td>\n",
              "      <td>0.0</td>\n",
              "      <td>3625</td>\n",
              "      <td>0.0</td>\n",
              "      <td>108</td>\n",
              "      <td>360</td>\n",
              "      <td>1</td>\n",
              "    </tr>\n",
              "    <tr>\n",
              "      <th>440</th>\n",
              "      <td>0.0</td>\n",
              "      <td>0</td>\n",
              "      <td>0</td>\n",
              "      <td>1.0</td>\n",
              "      <td>0.0</td>\n",
              "      <td>3660</td>\n",
              "      <td>5064.0</td>\n",
              "      <td>187</td>\n",
              "      <td>360</td>\n",
              "      <td>1</td>\n",
              "    </tr>\n",
              "    <tr>\n",
              "      <th>927</th>\n",
              "      <td>1.0</td>\n",
              "      <td>1</td>\n",
              "      <td>0</td>\n",
              "      <td>1.0</td>\n",
              "      <td>0.0</td>\n",
              "      <td>2423</td>\n",
              "      <td>505.0</td>\n",
              "      <td>130</td>\n",
              "      <td>360</td>\n",
              "      <td>1</td>\n",
              "    </tr>\n",
              "    <tr>\n",
              "      <th>...</th>\n",
              "      <td>...</td>\n",
              "      <td>...</td>\n",
              "      <td>...</td>\n",
              "      <td>...</td>\n",
              "      <td>...</td>\n",
              "      <td>...</td>\n",
              "      <td>...</td>\n",
              "      <td>...</td>\n",
              "      <td>...</td>\n",
              "      <td>...</td>\n",
              "    </tr>\n",
              "    <tr>\n",
              "      <th>1033</th>\n",
              "      <td>1.0</td>\n",
              "      <td>1</td>\n",
              "      <td>0</td>\n",
              "      <td>1.0</td>\n",
              "      <td>1.0</td>\n",
              "      <td>2083</td>\n",
              "      <td>4083.0</td>\n",
              "      <td>160</td>\n",
              "      <td>360</td>\n",
              "      <td>1</td>\n",
              "    </tr>\n",
              "    <tr>\n",
              "      <th>763</th>\n",
              "      <td>0.0</td>\n",
              "      <td>0</td>\n",
              "      <td>0</td>\n",
              "      <td>0.0</td>\n",
              "      <td>0.0</td>\n",
              "      <td>4885</td>\n",
              "      <td>0.0</td>\n",
              "      <td>48</td>\n",
              "      <td>360</td>\n",
              "      <td>1</td>\n",
              "    </tr>\n",
              "    <tr>\n",
              "      <th>835</th>\n",
              "      <td>1.0</td>\n",
              "      <td>0</td>\n",
              "      <td>1</td>\n",
              "      <td>1.0</td>\n",
              "      <td>0.0</td>\n",
              "      <td>3481</td>\n",
              "      <td>0.0</td>\n",
              "      <td>155</td>\n",
              "      <td>36</td>\n",
              "      <td>1</td>\n",
              "    </tr>\n",
              "    <tr>\n",
              "      <th>559</th>\n",
              "      <td>1.0</td>\n",
              "      <td>1</td>\n",
              "      <td>0</td>\n",
              "      <td>1.0</td>\n",
              "      <td>0.0</td>\n",
              "      <td>4180</td>\n",
              "      <td>2306.0</td>\n",
              "      <td>182</td>\n",
              "      <td>360</td>\n",
              "      <td>1</td>\n",
              "    </tr>\n",
              "    <tr>\n",
              "      <th>684</th>\n",
              "      <td>0.0</td>\n",
              "      <td>1</td>\n",
              "      <td>0</td>\n",
              "      <td>1.0</td>\n",
              "      <td>0.0</td>\n",
              "      <td>9083</td>\n",
              "      <td>0.0</td>\n",
              "      <td>228</td>\n",
              "      <td>360</td>\n",
              "      <td>1</td>\n",
              "    </tr>\n",
              "  </tbody>\n",
              "</table>\n",
              "<p>789 rows × 10 columns</p>\n",
              "</div>\n",
              "      <button class=\"colab-df-convert\" onclick=\"convertToInteractive('df-e275eb32-4740-4b6f-803c-916a51e9a9aa')\"\n",
              "              title=\"Convert this dataframe to an interactive table.\"\n",
              "              style=\"display:none;\">\n",
              "        \n",
              "  <svg xmlns=\"http://www.w3.org/2000/svg\" height=\"24px\"viewBox=\"0 0 24 24\"\n",
              "       width=\"24px\">\n",
              "    <path d=\"M0 0h24v24H0V0z\" fill=\"none\"/>\n",
              "    <path d=\"M18.56 5.44l.94 2.06.94-2.06 2.06-.94-2.06-.94-.94-2.06-.94 2.06-2.06.94zm-11 1L8.5 8.5l.94-2.06 2.06-.94-2.06-.94L8.5 2.5l-.94 2.06-2.06.94zm10 10l.94 2.06.94-2.06 2.06-.94-2.06-.94-.94-2.06-.94 2.06-2.06.94z\"/><path d=\"M17.41 7.96l-1.37-1.37c-.4-.4-.92-.59-1.43-.59-.52 0-1.04.2-1.43.59L10.3 9.45l-7.72 7.72c-.78.78-.78 2.05 0 2.83L4 21.41c.39.39.9.59 1.41.59.51 0 1.02-.2 1.41-.59l7.78-7.78 2.81-2.81c.8-.78.8-2.07 0-2.86zM5.41 20L4 18.59l7.72-7.72 1.47 1.35L5.41 20z\"/>\n",
              "  </svg>\n",
              "      </button>\n",
              "      \n",
              "  <style>\n",
              "    .colab-df-container {\n",
              "      display:flex;\n",
              "      flex-wrap:wrap;\n",
              "      gap: 12px;\n",
              "    }\n",
              "\n",
              "    .colab-df-convert {\n",
              "      background-color: #E8F0FE;\n",
              "      border: none;\n",
              "      border-radius: 50%;\n",
              "      cursor: pointer;\n",
              "      display: none;\n",
              "      fill: #1967D2;\n",
              "      height: 32px;\n",
              "      padding: 0 0 0 0;\n",
              "      width: 32px;\n",
              "    }\n",
              "\n",
              "    .colab-df-convert:hover {\n",
              "      background-color: #E2EBFA;\n",
              "      box-shadow: 0px 1px 2px rgba(60, 64, 67, 0.3), 0px 1px 3px 1px rgba(60, 64, 67, 0.15);\n",
              "      fill: #174EA6;\n",
              "    }\n",
              "\n",
              "    [theme=dark] .colab-df-convert {\n",
              "      background-color: #3B4455;\n",
              "      fill: #D2E3FC;\n",
              "    }\n",
              "\n",
              "    [theme=dark] .colab-df-convert:hover {\n",
              "      background-color: #434B5C;\n",
              "      box-shadow: 0px 1px 3px 1px rgba(0, 0, 0, 0.15);\n",
              "      filter: drop-shadow(0px 1px 2px rgba(0, 0, 0, 0.3));\n",
              "      fill: #FFFFFF;\n",
              "    }\n",
              "  </style>\n",
              "\n",
              "      <script>\n",
              "        const buttonEl =\n",
              "          document.querySelector('#df-e275eb32-4740-4b6f-803c-916a51e9a9aa button.colab-df-convert');\n",
              "        buttonEl.style.display =\n",
              "          google.colab.kernel.accessAllowed ? 'block' : 'none';\n",
              "\n",
              "        async function convertToInteractive(key) {\n",
              "          const element = document.querySelector('#df-e275eb32-4740-4b6f-803c-916a51e9a9aa');\n",
              "          const dataTable =\n",
              "            await google.colab.kernel.invokeFunction('convertToInteractive',\n",
              "                                                     [key], {});\n",
              "          if (!dataTable) return;\n",
              "\n",
              "          const docLinkHtml = 'Like what you see? Visit the ' +\n",
              "            '<a target=\"_blank\" href=https://colab.research.google.com/notebooks/data_table.ipynb>data table notebook</a>'\n",
              "            + ' to learn more about interactive tables.';\n",
              "          element.innerHTML = '';\n",
              "          dataTable['output_type'] = 'display_data';\n",
              "          await google.colab.output.renderOutput(dataTable, element);\n",
              "          const docLink = document.createElement('div');\n",
              "          docLink.innerHTML = docLinkHtml;\n",
              "          element.appendChild(docLink);\n",
              "        }\n",
              "      </script>\n",
              "    </div>\n",
              "  </div>\n",
              "  "
            ]
          },
          "metadata": {},
          "execution_count": 128
        }
      ]
    },
    {
      "cell_type": "code",
      "source": [
        "# df = pd.read_csv('/content/sample_data/Loan.csv')\n",
        "# df = preprocess(df)\n",
        "# df"
      ],
      "metadata": {
        "id": "4xbtW9CYLtpr"
      },
      "execution_count": 129,
      "outputs": []
    },
    {
      "cell_type": "markdown",
      "source": [
        "#Target class distribution#"
      ],
      "metadata": {
        "id": "lxivi_aMNM1V"
      }
    },
    {
      "cell_type": "code",
      "source": [
        "target = df['Loan_Status']\n",
        "target.value_counts()\n"
      ],
      "metadata": {
        "colab": {
          "base_uri": "https://localhost:8080/"
        },
        "id": "8e89ykkALvyb",
        "outputId": "99e4ba28-a5d5-48d5-d006-92330676bfad"
      },
      "execution_count": 130,
      "outputs": [
        {
          "output_type": "execute_result",
          "data": {
            "text/plain": [
              "1    729\n",
              "0    324\n",
              "Name: Loan_Status, dtype: int64"
            ]
          },
          "metadata": {},
          "execution_count": 130
        }
      ]
    },
    {
      "cell_type": "markdown",
      "source": [
        "#Define and train the models #"
      ],
      "metadata": {
        "id": "WtrZLphoNYp7"
      }
    },
    {
      "cell_type": "markdown",
      "source": [
        "Decision Tree Classifier"
      ],
      "metadata": {
        "id": "52UQkW6vNh1l"
      }
    },
    {
      "cell_type": "code",
      "source": [
        "# defining our tree object with the hyper parameters discussed above\n",
        "model = DecisionTreeClassifier(max_depth= 5)\n",
        "\n",
        "\n",
        "\n",
        "model.fit(\n",
        "    X_train,\n",
        "    y_train\n",
        "    # X=df.drop(columns=['Loan_Status']), \n",
        "    # y=df['Loan_Status']\n",
        ")"
      ],
      "metadata": {
        "colab": {
          "base_uri": "https://localhost:8080/"
        },
        "id": "YEHpWgPzYJqc",
        "outputId": "eff31a8a-2b11-4744-98d4-10e85cb973c2"
      },
      "execution_count": 131,
      "outputs": [
        {
          "output_type": "execute_result",
          "data": {
            "text/plain": [
              "DecisionTreeClassifier(max_depth=5)"
            ]
          },
          "metadata": {},
          "execution_count": 131
        }
      ]
    },
    {
      "cell_type": "code",
      "source": [
        "# plt.figure(figsize=(20, 20))\n",
        "# plot_tree(\n",
        "#     model,\n",
        "#     feature_names=['Gender',\t'Married',\t'Dependents',\t'Education',\t'Self_Employed',\t'ApplicantIncome',\t'CoapplicantIncome',\t'LoanAmount',\t'Loan_Amount_Term',\t'Credit_History'],  \n",
        "#     class_names=['Not Loan', 'Loan'],\n",
        "#     impurity=False,\n",
        "#     filled=True,\n",
        "#     fontsize=18\n",
        "# )\n",
        "# plt.show()"
      ],
      "metadata": {
        "id": "BxPu0LVWZ_HA"
      },
      "execution_count": 132,
      "outputs": []
    },
    {
      "cell_type": "code",
      "source": [
        "df_test = pd.read_csv('/content/sample_data/Loan.csv')\n",
        "df_test = preprocess(df_test)\n",
        "df_test=df_test.drop(columns=['Loan_Status'])"
      ],
      "metadata": {
        "id": "rmI6ogRMbM8h"
      },
      "execution_count": 133,
      "outputs": []
    },
    {
      "cell_type": "markdown",
      "source": [
        "#Evaluate#\n",
        "Accuracy = Correct Predictions / Total Predictions"
      ],
      "metadata": {
        "id": "8UwxFJTwgOEU"
      }
    },
    {
      "cell_type": "code",
      "source": [
        "inputs = pd.DataFrame(X_test)\n",
        "prediction_DecisionTreeClassifier = model.predict(\n",
        "    inputs\n",
        ")\n",
        "accuracy_DecisionTreeClassifier = accuracy_score(y_test,prediction_DecisionTreeClassifier)\n",
        "print(f\"Accuracy score of DecisionTreeClassifier = {accuracy_DecisionTreeClassifier}\")"
      ],
      "metadata": {
        "colab": {
          "base_uri": "https://localhost:8080/"
        },
        "id": "dQL4GAPPb5yZ",
        "outputId": "1c58faec-fa6c-48ca-f965-9d16903d23c9"
      },
      "execution_count": 134,
      "outputs": [
        {
          "output_type": "stream",
          "name": "stdout",
          "text": [
            "Accuracy score of DecisionTreeClassifier = 0.8295454545454546\n"
          ]
        }
      ]
    },
    {
      "cell_type": "markdown",
      "source": [
        "Random Forest Classifier"
      ],
      "metadata": {
        "id": "k7ZSljYMNnyS"
      }
    },
    {
      "cell_type": "code",
      "source": [
        "from sklearn.ensemble import RandomForestClassifier\n",
        "\n",
        "model_rf = RandomForestClassifier(criterion='gini', \n",
        "                             n_estimators=700,\n",
        "                             min_samples_split=10,\n",
        "                             min_samples_leaf=1,\n",
        "                             max_features='auto',\n",
        "                             oob_score=True,\n",
        "                             random_state=1,\n",
        "                             n_jobs=-1)\n",
        "model_rf.fit(\n",
        "    X_train,\n",
        "    y_train\n",
        "    # X=df.drop(columns=['Loan_Status']), \n",
        "    # y=df['Loan_Status']\n",
        ")\n",
        "print(\"%.4f\" % model_rf.oob_score_)"
      ],
      "metadata": {
        "colab": {
          "base_uri": "https://localhost:8080/"
        },
        "id": "ppW1ecuSle68",
        "outputId": "b170db42-7bea-458b-ad84-1f04611f9baa"
      },
      "execution_count": 135,
      "outputs": [
        {
          "output_type": "stream",
          "name": "stderr",
          "text": [
            "<ipython-input-135-65b5e1cbec39>:11: DataConversionWarning: A column-vector y was passed when a 1d array was expected. Please change the shape of y to (n_samples,), for example using ravel().\n",
            "  model_rf.fit(\n"
          ]
        },
        {
          "output_type": "stream",
          "name": "stdout",
          "text": [
            "0.8695\n"
          ]
        }
      ]
    },
    {
      "cell_type": "code",
      "source": [
        "inputs = pd.DataFrame(X_test)\n",
        "prediction_RandomForestClassifier = model_rf.predict(\n",
        "    inputs\n",
        ")\n",
        "accuracy_RandomForestClassifier = accuracy_score(y_test,prediction_RandomForestClassifier)"
      ],
      "metadata": {
        "id": "74IhuF-alpHZ"
      },
      "execution_count": 136,
      "outputs": []
    },
    {
      "cell_type": "markdown",
      "source": [
        "Extremely Randomized Trees"
      ],
      "metadata": {
        "id": "qrySHjlHl0c_"
      }
    },
    {
      "cell_type": "code",
      "source": [
        "from sklearn.ensemble import ExtraTreesClassifier\n",
        "\n",
        "model_ExtraTreesClassifier = ExtraTreesClassifier()\n",
        "model_ExtraTreesClassifier.fit(\n",
        "    X_train,\n",
        "    y_train\n",
        "    # X=df.drop(columns=['Loan_Status']), \n",
        "    # y=df['Loan_Status']\n",
        ")"
      ],
      "metadata": {
        "colab": {
          "base_uri": "https://localhost:8080/"
        },
        "id": "oR24UZ78lx0x",
        "outputId": "324e370c-7e81-47e6-d635-652317bbf559"
      },
      "execution_count": 137,
      "outputs": [
        {
          "output_type": "stream",
          "name": "stderr",
          "text": [
            "<ipython-input-137-3f7dfe844915>:4: DataConversionWarning: A column-vector y was passed when a 1d array was expected. Please change the shape of y to (n_samples,), for example using ravel().\n",
            "  model_ExtraTreesClassifier.fit(\n"
          ]
        },
        {
          "output_type": "execute_result",
          "data": {
            "text/plain": [
              "ExtraTreesClassifier()"
            ]
          },
          "metadata": {},
          "execution_count": 137
        }
      ]
    },
    {
      "cell_type": "code",
      "source": [
        "inputs = pd.DataFrame(X_test)\n",
        "prediction_ExtraTreesClassifier = model_ExtraTreesClassifier.predict(\n",
        "    inputs\n",
        ")\n",
        "accuracy_ExtraTreesClassifier = accuracy_score(y_test,prediction_ExtraTreesClassifier)\n",
        "print(f\"Accuracy score of ExtraTreesClassifier = {accuracy_ExtraTreesClassifier}\")"
      ],
      "metadata": {
        "colab": {
          "base_uri": "https://localhost:8080/"
        },
        "id": "vifMdF9al8UD",
        "outputId": "9bf64641-6cb4-490d-d4af-3a8c370a8920"
      },
      "execution_count": 138,
      "outputs": [
        {
          "output_type": "stream",
          "name": "stdout",
          "text": [
            "Accuracy score of ExtraTreesClassifier = 0.8787878787878788\n"
          ]
        }
      ]
    },
    {
      "cell_type": "markdown",
      "source": [
        "*Summary - Loan dataset accuracy score*"
      ],
      "metadata": {
        "id": "10u3yXUagxXx"
      }
    },
    {
      "cell_type": "code",
      "source": [
        "from tabulate import tabulate\n",
        "print(tabulate([[\"Accuracy\",accuracy_DecisionTreeClassifier,accuracy_RandomForestClassifier,accuracy_ExtraTreesClassifier]], headers=[\"Model\",\"DecisionTreeClassifier\",\"RandomForestClassifier\",\"ExtraTreesClassifier\"], tablefmt=\"grid\"))"
      ],
      "metadata": {
        "colab": {
          "base_uri": "https://localhost:8080/"
        },
        "id": "qqm6aEo6gu8t",
        "outputId": "624a79d8-d21e-48af-a158-31555e8dc19c"
      },
      "execution_count": 141,
      "outputs": [
        {
          "output_type": "stream",
          "name": "stdout",
          "text": [
            "+----------+--------------------------+--------------------------+------------------------+\n",
            "| Model    |   DecisionTreeClassifier |   RandomForestClassifier |   ExtraTreesClassifier |\n",
            "+==========+==========================+==========================+========================+\n",
            "| Accuracy |                 0.829545 |                 0.859848 |               0.878788 |\n",
            "+----------+--------------------------+--------------------------+------------------------+\n"
          ]
        }
      ]
    }
  ]
}